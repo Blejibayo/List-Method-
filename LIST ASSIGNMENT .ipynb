{
 "cells": [
  {
   "cell_type": "code",
   "execution_count": null,
   "id": "2f6841ff-ccb7-4adf-8e08-bcf438c36b1e",
   "metadata": {},
   "outputs": [],
   "source": [
    "#Use the whole methods in list to create 2 diffrent examples."
   ]
  },
  {
   "cell_type": "code",
   "execution_count": 2,
   "id": "4f951118-34af-4635-bf5c-83aea184e7f7",
   "metadata": {},
   "outputs": [
    {
     "data": {
      "text/plain": [
       "[]"
      ]
     },
     "execution_count": 2,
     "metadata": {},
     "output_type": "execute_result"
    }
   ],
   "source": [
    "([])"
   ]
  },
  {
   "cell_type": "code",
   "execution_count": 3,
   "id": "d0449a11-0eb2-42a4-bb4e-ab9c5e3766a1",
   "metadata": {},
   "outputs": [
    {
     "data": {
      "text/plain": [
       "list"
      ]
     },
     "execution_count": 3,
     "metadata": {},
     "output_type": "execute_result"
    }
   ],
   "source": [
    "type([])"
   ]
  },
  {
   "cell_type": "code",
   "execution_count": 4,
   "id": "f0eafbef-b1a1-4df4-aded-ab6fe5948a5a",
   "metadata": {},
   "outputs": [],
   "source": [
    "Fruit=[\"apple\",\"banana\",\"orange\"]"
   ]
  },
  {
   "cell_type": "code",
   "execution_count": 5,
   "id": "dc1721f9-2503-4ed5-86fc-8fb85b1839ec",
   "metadata": {},
   "outputs": [
    {
     "data": {
      "text/plain": [
       "['apple', 'banana', 'orange']"
      ]
     },
     "execution_count": 5,
     "metadata": {},
     "output_type": "execute_result"
    }
   ],
   "source": [
    "Fruit"
   ]
  },
  {
   "cell_type": "code",
   "execution_count": 6,
   "id": "89dbaacb-817e-456a-86e8-44e9b3026477",
   "metadata": {},
   "outputs": [],
   "source": [
    "d=Fruit"
   ]
  },
  {
   "cell_type": "code",
   "execution_count": 7,
   "id": "e6f6e852-911b-46d8-b2fb-9c15f3e755cd",
   "metadata": {},
   "outputs": [
    {
     "data": {
      "text/plain": [
       "['apple', 'banana', 'orange']"
      ]
     },
     "execution_count": 7,
     "metadata": {},
     "output_type": "execute_result"
    }
   ],
   "source": [
    "d"
   ]
  },
  {
   "cell_type": "code",
   "execution_count": 8,
   "id": "aae44d58-2708-4329-93f0-8f8e54dd63d8",
   "metadata": {},
   "outputs": [],
   "source": [
    "d.append(\"orange\")"
   ]
  },
  {
   "cell_type": "code",
   "execution_count": 9,
   "id": "2e5878f6-7931-4099-a4ce-9edfbc5e00fd",
   "metadata": {},
   "outputs": [
    {
     "data": {
      "text/plain": [
       "['apple', 'banana', 'orange', 'orange']"
      ]
     },
     "execution_count": 9,
     "metadata": {},
     "output_type": "execute_result"
    }
   ],
   "source": [
    "d"
   ]
  },
  {
   "cell_type": "code",
   "execution_count": 10,
   "id": "9c994517-2fe8-4582-a19a-bbd03a96570f",
   "metadata": {},
   "outputs": [],
   "source": [
    "d.insert(0,\"pear\")"
   ]
  },
  {
   "cell_type": "code",
   "execution_count": 11,
   "id": "73318786-f83b-4ae3-9f62-a0345c8913e9",
   "metadata": {},
   "outputs": [
    {
     "data": {
      "text/plain": [
       "['pear', 'apple', 'banana', 'orange', 'orange']"
      ]
     },
     "execution_count": 11,
     "metadata": {},
     "output_type": "execute_result"
    }
   ],
   "source": [
    "d"
   ]
  },
  {
   "cell_type": "code",
   "execution_count": 12,
   "id": "aba1f189-ab39-4ca3-a603-d163b21a8c22",
   "metadata": {},
   "outputs": [
    {
     "data": {
      "text/plain": [
       "'pear'"
      ]
     },
     "execution_count": 12,
     "metadata": {},
     "output_type": "execute_result"
    }
   ],
   "source": [
    "d[0]"
   ]
  },
  {
   "cell_type": "code",
   "execution_count": 13,
   "id": "381347d1-ff3a-48a3-89db-5312a52b615a",
   "metadata": {},
   "outputs": [
    {
     "data": {
      "text/plain": [
       "'orange'"
      ]
     },
     "execution_count": 13,
     "metadata": {},
     "output_type": "execute_result"
    }
   ],
   "source": [
    "d[-2]"
   ]
  },
  {
   "cell_type": "code",
   "execution_count": 14,
   "id": "7798f677-ec3b-4b42-aeeb-15034de0785c",
   "metadata": {},
   "outputs": [],
   "source": [
    "d[-2]=\"cherry\""
   ]
  },
  {
   "cell_type": "code",
   "execution_count": 15,
   "id": "ae79fb69-02ff-478d-88b5-f958dd200a20",
   "metadata": {},
   "outputs": [
    {
     "data": {
      "text/plain": [
       "['pear', 'apple', 'banana', 'cherry', 'orange']"
      ]
     },
     "execution_count": 15,
     "metadata": {},
     "output_type": "execute_result"
    }
   ],
   "source": [
    "d"
   ]
  },
  {
   "cell_type": "code",
   "execution_count": 16,
   "id": "f92221bf-5c6a-4fd1-b992-84c4a0db4847",
   "metadata": {},
   "outputs": [
    {
     "data": {
      "text/plain": [
       "['pear', 'apple']"
      ]
     },
     "execution_count": 16,
     "metadata": {},
     "output_type": "execute_result"
    }
   ],
   "source": [
    "d[:2]"
   ]
  },
  {
   "cell_type": "code",
   "execution_count": 17,
   "id": "a6ae3aef-9247-4ac0-ac89-98398b796513",
   "metadata": {},
   "outputs": [],
   "source": [
    "d[:2]=(\"mango\",\"watermelon\")"
   ]
  },
  {
   "cell_type": "code",
   "execution_count": 18,
   "id": "cfc0c239-1cda-4107-a27c-204987c1ff74",
   "metadata": {},
   "outputs": [
    {
     "data": {
      "text/plain": [
       "['mango', 'watermelon', 'banana', 'cherry', 'orange']"
      ]
     },
     "execution_count": 18,
     "metadata": {},
     "output_type": "execute_result"
    }
   ],
   "source": [
    "d"
   ]
  },
  {
   "cell_type": "code",
   "execution_count": 21,
   "id": "ee1fd05f-c1fb-4090-8c7b-55a2482e864d",
   "metadata": {},
   "outputs": [],
   "source": [
    "d.extend([\"cucumber\",\"strawberry\"])"
   ]
  },
  {
   "cell_type": "code",
   "execution_count": 22,
   "id": "8f1c18cf-4f1f-4e62-b246-93b5ed21f00a",
   "metadata": {},
   "outputs": [
    {
     "data": {
      "text/plain": [
       "['mango',\n",
       " 'watermelon',\n",
       " 'banana',\n",
       " 'cherry',\n",
       " 'orange',\n",
       " 'cucumberstrawberry',\n",
       " 'cucumber',\n",
       " 'strawberry']"
      ]
     },
     "execution_count": 22,
     "metadata": {},
     "output_type": "execute_result"
    }
   ],
   "source": [
    "d"
   ]
  },
  {
   "cell_type": "code",
   "execution_count": 23,
   "id": "bda2a8a4-c8c0-4e2b-8a55-2abb872b89a5",
   "metadata": {},
   "outputs": [
    {
     "data": {
      "text/plain": [
       "'strawberry'"
      ]
     },
     "execution_count": 23,
     "metadata": {},
     "output_type": "execute_result"
    }
   ],
   "source": [
    "d.pop()"
   ]
  },
  {
   "cell_type": "code",
   "execution_count": 24,
   "id": "27564923-fc18-46a1-90e5-916fdc9cdf20",
   "metadata": {},
   "outputs": [
    {
     "data": {
      "text/plain": [
       "['mango',\n",
       " 'watermelon',\n",
       " 'banana',\n",
       " 'cherry',\n",
       " 'orange',\n",
       " 'cucumberstrawberry',\n",
       " 'cucumber']"
      ]
     },
     "execution_count": 24,
     "metadata": {},
     "output_type": "execute_result"
    }
   ],
   "source": [
    "d"
   ]
  },
  {
   "cell_type": "code",
   "execution_count": 25,
   "id": "81f2a1aa-8249-4ad4-bac2-6d7d3b0a2597",
   "metadata": {},
   "outputs": [],
   "source": [
    "d.remove(\"cucumberstrawberry\")"
   ]
  },
  {
   "cell_type": "code",
   "execution_count": 26,
   "id": "dd991e90-41e5-4ef8-b71f-c65b7322e427",
   "metadata": {},
   "outputs": [
    {
     "data": {
      "text/plain": [
       "['mango', 'watermelon', 'banana', 'cherry', 'orange', 'cucumber']"
      ]
     },
     "execution_count": 26,
     "metadata": {},
     "output_type": "execute_result"
    }
   ],
   "source": [
    "d"
   ]
  },
  {
   "cell_type": "code",
   "execution_count": 27,
   "id": "155ad214-942b-4434-b062-dd9a979aea22",
   "metadata": {},
   "outputs": [],
   "source": [
    "d.sort()"
   ]
  },
  {
   "cell_type": "code",
   "execution_count": 28,
   "id": "6a4cb4cd-0540-4cea-a4c4-3473534a1410",
   "metadata": {},
   "outputs": [
    {
     "data": {
      "text/plain": [
       "['banana', 'cherry', 'cucumber', 'mango', 'orange', 'watermelon']"
      ]
     },
     "execution_count": 28,
     "metadata": {},
     "output_type": "execute_result"
    }
   ],
   "source": [
    "d"
   ]
  },
  {
   "cell_type": "code",
   "execution_count": 29,
   "id": "e85c1176-8778-4bd5-b3bc-5324da9f69de",
   "metadata": {},
   "outputs": [],
   "source": [
    "d.reverse()"
   ]
  },
  {
   "cell_type": "code",
   "execution_count": 30,
   "id": "cf4330c7-d552-4ef7-a9d2-35c1e1f3417b",
   "metadata": {},
   "outputs": [
    {
     "data": {
      "text/plain": [
       "['watermelon', 'orange', 'mango', 'cucumber', 'cherry', 'banana']"
      ]
     },
     "execution_count": 30,
     "metadata": {},
     "output_type": "execute_result"
    }
   ],
   "source": [
    "d"
   ]
  },
  {
   "cell_type": "code",
   "execution_count": 31,
   "id": "a4c64a78-d498-488a-837e-3e126dd45b8b",
   "metadata": {},
   "outputs": [],
   "source": [
    "Fruit=d.copy()"
   ]
  },
  {
   "cell_type": "code",
   "execution_count": 32,
   "id": "4078808d-ee9a-46cb-999b-093471453b10",
   "metadata": {},
   "outputs": [
    {
     "data": {
      "text/plain": [
       "['watermelon', 'orange', 'mango', 'cucumber', 'cherry', 'banana']"
      ]
     },
     "execution_count": 32,
     "metadata": {},
     "output_type": "execute_result"
    }
   ],
   "source": [
    "Fruit"
   ]
  },
  {
   "cell_type": "markdown",
   "id": "2a1986a7-1534-4d75-ad22-40d6dc1532a2",
   "metadata": {},
   "source": [
    "<h2>B</h2>"
   ]
  },
  {
   "cell_type": "code",
   "execution_count": 34,
   "id": "1c378760-330f-4147-9592-2b0c5b234372",
   "metadata": {},
   "outputs": [],
   "source": [
    "Kitchen_Utensils= [\"spoon\",\"fork\"]"
   ]
  },
  {
   "cell_type": "code",
   "execution_count": 35,
   "id": "61d532bc-9dbb-4727-957e-5c7f3c9bfb09",
   "metadata": {},
   "outputs": [
    {
     "data": {
      "text/plain": [
       "['spoon', 'fork']"
      ]
     },
     "execution_count": 35,
     "metadata": {},
     "output_type": "execute_result"
    }
   ],
   "source": [
    "Kitchen_Utensils"
   ]
  },
  {
   "cell_type": "code",
   "execution_count": 36,
   "id": "ecfc0151-3d2a-4734-b20a-4c0985d11388",
   "metadata": {},
   "outputs": [],
   "source": [
    "KU= Kitchen_Utensils"
   ]
  },
  {
   "cell_type": "code",
   "execution_count": 37,
   "id": "04ce407a-19f8-41f9-a884-f1c7ed55bf6e",
   "metadata": {},
   "outputs": [
    {
     "data": {
      "text/plain": [
       "['spoon', 'fork']"
      ]
     },
     "execution_count": 37,
     "metadata": {},
     "output_type": "execute_result"
    }
   ],
   "source": [
    "KU"
   ]
  },
  {
   "cell_type": "code",
   "execution_count": 39,
   "id": "38719eb8-fc5e-46aa-8a69-191762d1c92d",
   "metadata": {},
   "outputs": [],
   "source": [
    "KU.append(\"plate\")"
   ]
  },
  {
   "cell_type": "code",
   "execution_count": 40,
   "id": "3c9085be-633a-4be9-b5ad-6f99ff6ab774",
   "metadata": {},
   "outputs": [
    {
     "data": {
      "text/plain": [
       "['spoon', 'fork', 'plate']"
      ]
     },
     "execution_count": 40,
     "metadata": {},
     "output_type": "execute_result"
    }
   ],
   "source": [
    "KU"
   ]
  },
  {
   "cell_type": "code",
   "execution_count": 41,
   "id": "9816dba4-6a37-4bb8-a746-3ecef1d9c767",
   "metadata": {},
   "outputs": [],
   "source": [
    "KU.insert(1,\"cup\")"
   ]
  },
  {
   "cell_type": "code",
   "execution_count": 42,
   "id": "a84519be-74ee-46b7-a912-175d7d59e586",
   "metadata": {},
   "outputs": [
    {
     "data": {
      "text/plain": [
       "['spoon', 'cup', 'fork', 'plate']"
      ]
     },
     "execution_count": 42,
     "metadata": {},
     "output_type": "execute_result"
    }
   ],
   "source": [
    "KU"
   ]
  },
  {
   "cell_type": "code",
   "execution_count": 43,
   "id": "fc709293-7393-4814-b790-25ee7cc3fd3d",
   "metadata": {},
   "outputs": [],
   "source": [
    "KU.extend([\"pot\",\"pan\",\"grater\"])"
   ]
  },
  {
   "cell_type": "code",
   "execution_count": 44,
   "id": "db65e4a0-7580-4f6d-877d-94e047ee4347",
   "metadata": {},
   "outputs": [
    {
     "data": {
      "text/plain": [
       "['spoon', 'cup', 'fork', 'plate', 'pot', 'pan', 'grater']"
      ]
     },
     "execution_count": 44,
     "metadata": {},
     "output_type": "execute_result"
    }
   ],
   "source": [
    "KU"
   ]
  },
  {
   "cell_type": "code",
   "execution_count": 45,
   "id": "51affed7-b14f-4b2e-8276-411fe1a281ba",
   "metadata": {},
   "outputs": [],
   "source": [
    "KU.sort()"
   ]
  },
  {
   "cell_type": "code",
   "execution_count": 46,
   "id": "7878d3d8-2626-418f-84a3-be53fd0798e5",
   "metadata": {},
   "outputs": [
    {
     "data": {
      "text/plain": [
       "['cup', 'fork', 'grater', 'pan', 'plate', 'pot', 'spoon']"
      ]
     },
     "execution_count": 46,
     "metadata": {},
     "output_type": "execute_result"
    }
   ],
   "source": [
    "KU"
   ]
  },
  {
   "cell_type": "code",
   "execution_count": 47,
   "id": "0eb80278-aec3-47ad-b634-9a4bab2c050a",
   "metadata": {},
   "outputs": [],
   "source": [
    "KU.reverse()"
   ]
  },
  {
   "cell_type": "code",
   "execution_count": 48,
   "id": "73b5e035-45b3-40ef-b37e-3a4686d6f392",
   "metadata": {},
   "outputs": [
    {
     "data": {
      "text/plain": [
       "['spoon', 'pot', 'plate', 'pan', 'grater', 'fork', 'cup']"
      ]
     },
     "execution_count": 48,
     "metadata": {},
     "output_type": "execute_result"
    }
   ],
   "source": [
    "KU"
   ]
  },
  {
   "cell_type": "code",
   "execution_count": null,
   "id": "6134d00c-9aed-4faf-96a6-dfe765449fc4",
   "metadata": {},
   "outputs": [],
   "source": []
  }
 ],
 "metadata": {
  "kernelspec": {
   "display_name": "Python 3 (ipykernel)",
   "language": "python",
   "name": "python3"
  },
  "language_info": {
   "codemirror_mode": {
    "name": "ipython",
    "version": 3
   },
   "file_extension": ".py",
   "mimetype": "text/x-python",
   "name": "python",
   "nbconvert_exporter": "python",
   "pygments_lexer": "ipython3",
   "version": "3.11.7"
  }
 },
 "nbformat": 4,
 "nbformat_minor": 5
}
